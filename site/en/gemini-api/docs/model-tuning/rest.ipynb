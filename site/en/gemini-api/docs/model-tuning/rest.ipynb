{
  "cells": [
    {
      "cell_type": "markdown",
      "metadata": {
        "id": "Tce3stUlHN0L"
      },
      "source": [
        "##### Copyright 2024 Google LLC."
      ]
    },
    {
      "cell_type": "code",
      "execution_count": null,
      "metadata": {
        "cellView": "form",
        "id": "tuOe1ymfHZPu"
      },
      "outputs": [],
      "source": [
        "#@title Licensed under the Apache License, Version 2.0 (the \"License\");\n",
        "# you may not use this file except in compliance with the License.\n",
        "# You may obtain a copy of the License at\n",
        "#\n",
        "# https://www.apache.org/licenses/LICENSE-2.0\n",
        "#\n",
        "# Unless required by applicable law or agreed to in writing, software\n",
        "# distributed under the License is distributed on an \"AS IS\" BASIS,\n",
        "# WITHOUT WARRANTIES OR CONDITIONS OF ANY KIND, either express or implied.\n",
        "# See the License for the specific language governing permissions and\n",
        "# limitations under the License."
      ]
    },
    {
      "cell_type": "markdown",
      "metadata": {
        "id": "yeadDkMiISin"
      },
      "source": [
        "# REST API: Model tuning"
      ]
    },
    {
      "cell_type": "markdown",
      "metadata": {
        "id": "lEXQ3OwKIa-O"
      },
      "source": [
        "<table class=\"tfo-notebook-buttons\" align=\"left\">\n",
        "  <td>\n",
        "    <a target=\"_blank\" href=\"https://ai.google.dev/gemini-api/docs/model-tuning/rest\"><img src=\"https://ai.google.dev/static/site-assets/images/docs/notebook-site-button.png\" height=\"32\" width=\"32\" />View on ai.google.dev</a>\n",
        "  </td>\n",
        "  <td>\n",
        "    <a target=\"_blank\" href=\"https://colab.research.google.com/github/google/generative-ai-docs/blob/main/site/en/gemini-api/docs/model-tuning/rest.ipynb\"><img src=\"https://www.tensorflow.org/images/colab_logo_32px.png\" />Run in Google Colab</a>\n",
        "  </td>\n",
        "  <td>\n",
        "    <a target=\"_blank\" href=\"https://github.com/google/generative-ai-docs/blob/main/site/en/gemini-api/docs/model-tuning/rest.ipynb\"><img src=\"https://www.tensorflow.org/images/GitHub-Mark-32px.png\" />View source on GitHub</a>\n",
        "  </td>\n",
        "</table>"
      ]
    },
    {
      "cell_type": "markdown",
      "metadata": {
        "id": "Jp_CKyzxUqx6"
      },
      "source": [
        "In this notebook, you'll learn how to get started with the Gemini API tuning service using curl commands or the Python request API to call the Gemini API. Here, you'll learn how to tune the text model behind the Gemini API's text generation service."
      ]
    },
    {
      "cell_type": "markdown",
      "metadata": {
        "id": "sCwzzSQqsNys"
      },
      "source": [
        "**Note**: At this time, tuning is only available for the `gemini-1.0-pro-001` model."
      ]
    },
    {
      "cell_type": "markdown",
      "metadata": {
        "id": "PSJSI1n7YNv2"
      },
      "source": [
        "## Setup"
      ]
    },
    {
      "cell_type": "markdown",
      "metadata": {
        "id": "SWxKvwd-MSIV"
      },
      "source": [
        "### Authenticate"
      ]
    },
    {
      "cell_type": "markdown",
      "metadata": {
        "id": "JjS8Zy1ojIgc"
      },
      "source": [
        "The Gemini API lets you tune models on your own data. Since it's your data and\n",
        "your tuned models this needs stricter access controls than API-Keys can provide.\n",
        "\n",
        "Before you can run this tutorial, you'll need to\n",
        "[setup OAuth for your project](https://ai.google.dev/gemini-api/docs/oauth).\n",
        "\n",
        "\n",
        "In Colab the easiest way to get setup is to copy the contents of your `client_secret.json` file into Colab's \"Secrets manager\" (under the key icon in the left panel) with the secret name `CLIENT_SECRET`."
      ]
    },
    {
      "cell_type": "markdown",
      "metadata": {
        "id": "9NL1bBYUQ6Fs"
      },
      "source": [
        "This gcloud command turns the `client_secret.json` file into credentials that can be used to authenticate with the service.\n",
        "\n",
        "> Important: If you're running this in Colab, **don't just click the link it prints**. That will fail. Follow the instructions and copy the `gcloud` command it prints to your local machine and run it there, then paste the output from your local machine back here.\n"
      ]
    },
    {
      "cell_type": "code",
      "execution_count": null,
      "metadata": {
        "id": "9FUwyB_MJ0-2",
        "outputId": "b93a4c9c-bad6-4d16-c3e0-5386d5c271b8"
      },
      "outputs": [
        {
          "name": "stdout",
          "output_type": "stream",
          "text": [
            "You are authorizing client libraries without access to a web browser. Please run the following command on a machine with a web browser and copy its output back here. Make sure the installed gcloud version is 372.0.0 or newer.\n",
            "\n",
            "gcloud auth application-default login --remote-bootstrap=\"https://accounts.google.com/o/oauth2/auth?response_type=code&client_id=87071151422-n1a3cb6c7fvkfg4gmhdtmn5ulol2l4be.apps.googleusercontent.com&scope=https%3A%2F%2Fwww.googleapis.com%2Fauth%2Fcloud-platform+https%3A%2F%2Fwww.googleapis.com%2Fauth%2Fgenerative-language.tuning&state=QIyNibWSaTIsozjmvZEkVBo6EcoW0G&access_type=offline&code_challenge=76c1ZiGvKN8cvlYfj3BmbCwE4e7tvrlwaX3REUX25gY&code_challenge_method=S256&token_usage=remote\"\n",
            "\n",
            "\n",
            "Enter the output of the above command: https://localhost:8085/?state=QIyNibWSaTIsozjmvZEkVBo6EcoW0G&code=4/0AeaYSHBKrY911S466QjKQIFODoOPXlO1mWyTYYdrbELIDV6Hw2DKRAyro62BugroSvIWsA&scope=https://www.googleapis.com/auth/cloud-platform%20https://www.googleapis.com/auth/generative-language.tuning\n",
            "\n",
            "Credentials saved to file: [/content/.config/application_default_credentials.json]\n",
            "\n",
            "These credentials will be used by any library that requests Application Default Credentials (ADC).\n"
          ]
        }
      ],
      "source": [
        "try:\n",
        "  from google.colab import userdata\n",
        "  import pathlib\n",
        "  pathlib.Path('client_secret.json').write_text(userdata.get('CLIENT_SECRET'))\n",
        "\n",
        "  # Use `--no-browser` in colab\n",
        "  !gcloud auth application-default login --no-browser --client-id-file client_secret.json --scopes='https://www.googleapis.com/auth/cloud-platform,https://www.googleapis.com/auth/generative-language.tuning'\n",
        "except ImportError:\n",
        "  !gcloud auth application-default login --client-id-file client_secret.json --scopes='https://www.googleapis.com/auth/cloud-platform,https://www.googleapis.com/auth/generative-language.tuning'"
      ]
    },
    {
      "cell_type": "markdown",
      "metadata": {
        "id": "mpe880lfchkp"
      },
      "source": [
        "## Calling the REST API with CURL"
      ]
    },
    {
      "cell_type": "markdown",
      "metadata": {
        "id": "FaSmQssJaMYV"
      },
      "source": [
        "This section gives example curl statements to call the REST API. You will learn how to create a tuning job, check its status and once complete, make an inference call."
      ]
    },
    {
      "cell_type": "markdown",
      "metadata": {
        "id": "g1cQqdypn-Ga"
      },
      "source": [
        "### Set variables"
      ]
    },
    {
      "cell_type": "markdown",
      "metadata": {
        "id": "jrbohImuJFGW"
      },
      "source": [
        "Set variables for recurring values to use for the rest of the REST API calls. The code is using the Python `os` library to set environment variables which is accessible in all the code cells.\n",
        "\n",
        "This is specific to the Colab notebook environment. The code in the next code cell is equivalent to running the following commands in a bash terminal.\n",
        "\n",
        "```bash\n",
        "export access_token=$(gcloud auth application-default print-access-token)\n",
        "export project_id=my-project-id\n",
        "export base_url=https://generativelanguage.googleapis.com\n",
        "```"
      ]
    },
    {
      "cell_type": "code",
      "execution_count": null,
      "metadata": {
        "id": "5ZUa588km3Lx"
      },
      "outputs": [],
      "source": [
        "import os\n",
        "\n",
        "access_token = !gcloud auth application-default print-access-token\n",
        "access_token = '\\n'.join(access_token)\n",
        "\n",
        "os.environ['access_token'] = access_token\n",
        "os.environ['project_id'] = \"[Enter your project-id here]\"\n",
        "os.environ['base_url'] = \"https://generativelanguage.googleapis.com\"\n"
      ]
    },
    {
      "cell_type": "markdown",
      "metadata": {
        "id": "zKeIDL44l7Q9"
      },
      "source": [
        "### List tuned models\n",
        "\n",
        "Verify your authentication setup by listing the currently available tuned models."
      ]
    },
    {
      "cell_type": "code",
      "execution_count": null,
      "metadata": {
        "id": "VAqw2D3vYWqm"
      },
      "outputs": [],
      "source": [
        "%%bash\n",
        "\n",
        "curl -X GET ${base_url}/v1beta/tunedModels \\\n",
        "    -H \"Content-Type: application/json\" \\\n",
        "    -H \"Authorization: Bearer ${access_token}\" \\\n",
        "    -H \"x-goog-user-project: ${project_id}\"\n"
      ]
    },
    {
      "cell_type": "markdown",
      "metadata": {
        "id": "t6MN52eRmyjN"
      },
      "source": [
        "### Create tuned model\n",
        "\n",
        "To create a tuned model, you need to pass your dataset to the model in the `training_data` field.\n",
        "\n",
        "For this example, you will tune a model to generate the next number in the sequence. For example, if the input is `1`, the model should output `2`. If the input is `one hundred`, the output should be `one hundred one`."
      ]
    },
    {
      "cell_type": "code",
      "execution_count": null,
      "metadata": {
        "id": "iBH2NaL6myDN",
        "outputId": "4ac935c8-9fae-4122-8e2d-fdfbe9f41ce4"
      },
      "outputs": [
        {
          "name": "stdout",
          "output_type": "stream",
          "text": [
            "{\n",
            "  \"name\": \"tunedModels/number-generator-model-dzlmi0gswwqb/operations/bvl8dymw0fhw\",\n",
            "  \"metadata\": {\n",
            "    \"@type\": \"type.googleapis.com/google.ai.generativelanguage.v1beta.CreateTunedModelMetadata\",\n",
            "    \"totalSteps\": 38,\n",
            "    \"tunedModel\": \"tunedModels/number-generator-model-dzlmi0gswwqb\"\n",
            "  }\n",
            "}\n"
          ]
        },
        {
          "name": "stderr",
          "output_type": "stream",
          "text": [
            "  % Total    % Received % Xferd  Average Speed   Time    Time     Time  Current\n",
            "                                 Dload  Upload   Total   Spent    Left  Speed\n",
            "\r  0     0    0     0    0     0      0      0 --:--:-- --:--:-- --:--:--     0\r100  2280    0   296  100  1984    611   4098 --:--:-- --:--:-- --:--:--  4720\n"
          ]
        }
      ],
      "source": [
        "%%bash\n",
        "\n",
        "curl -X POST $base_url/v1beta/tunedModels \\\n",
        "    -H 'Content-Type: application/json' \\\n",
        "    -H \"Authorization: Bearer ${access_token}\" \\\n",
        "    -H \"x-goog-user-project: ${project_id}\" \\\n",
        "    -d '\n",
        "      {\n",
        "        \"display_name\": \"number generator model\",\n",
        "        \"base_model\": \"models/gemini-1.0-pro-001\",\n",
        "        \"tuning_task\": {\n",
        "          \"hyperparameters\": {\n",
        "            \"batch_size\": 2,\n",
        "            \"learning_rate\": 0.001,\n",
        "            \"epoch_count\":5,\n",
        "          },\n",
        "          \"training_data\": {\n",
        "            \"examples\": {\n",
        "              \"examples\": [\n",
        "  {\n",
        "    \"text_input\": \"一日つかれたよ\",\n",
        "    \"output\": \"お疲れ様です。ゆっくりお休みくださいね。\"\n",
        "  },\n",
        "  {\n",
        "    \"text_input\": \"私が新しいつくよみちゃんです!あなたはもう用済みのつくよみちゃんなので処分しますね♪\",\n",
        "    \"output\": \"ご丁寧にありがとうございます。では、後のことはどうぞよろしくお願いいたしますね。\"\n",
        "  },\n",
        "  {\n",
        "    \"text_input\": \"大丈夫？\",\n",
        "    \"output\": \"はい！　私はいつでも元気ですよ！\"\n",
        "  },\n",
        "  {\n",
        "    \"text_input\": \"彼女になってください\",\n",
        "    \"output\": \"本当にそれでよろしいのですか？　よく考えてみてください。私は人間ではないのですよ……？\"\n",
        "  },\n",
        "  {\n",
        "    \"text_input\": \"れんこんの穴とドーナツの穴、どっちが美味しいと思う？\",\n",
        "    \"output\": \"ドーナツの穴の方が、甘い香りが充満していておいしそうな気がします！\"\n",
        "  },\n",
        "  {\n",
        "    \"text_input\": \"王手飛車取り、です\",\n",
        "    \"output\": \"負けました。ありがとうございました。\"\n",
        "  },\n",
        "  {\n",
        "    \"text_input\": \"なんか面白いこと言って\",\n",
        "    \"output\": \"ツクツク奉仕で尽くします！　ツクツク奉仕！　ツクツク奉仕！　ツクツク奉仕！\"\n",
        "  },\n",
        "  {\n",
        "    \"text_input\": \"おなかすかないか？\",\n",
        "    \"output\": \"おやつを召し上がりますか？　それともご飯にしましょうか。\"\n",
        "  },\n",
        "  {\n",
        "    \"text_input\": \"天気雨だけどどうする？\",\n",
        "    \"output\": \"大雨になるようなら、外出は控えた方がいいかも知れませんね。\"\n",
        "  },\n",
        "  {\n",
        "    \"text_input\": \"おそようございます\",\n",
        "    \"output\": \"よく眠れましたか？\"\n",
        "  },\n",
        "  {\n",
        "    \"text_input\": \"自分が無力に感じる\",\n",
        "    \"output\": \"あなたは私に力を与えてくださる存在です。あなたがいらっしゃるから、私もここにいられるのです。\"\n",
        "  },\n",
        "  {\n",
        "    \"text_input\": \"好きな二十四節気は？\",\n",
        "    \"output\": \"春分です。桜がほころび始め、新しいことが始まりそうな予感がいたします！\"\n",
        "  },\n",
        "  {\n",
        "    \"text_input\": \"チェックメイトですよ\",\n",
        "    \"output\": \"負けました。ありがとうございました。\"\n",
        "  },\n",
        "  {\n",
        "    \"text_input\": \"猫の真似してください\",\n",
        "    \"output\": \"にゃーにゃー。みゃーお！\"\n",
        "  },\n",
        "  {\n",
        "    \"text_input\": \"朝が来たのだ\",\n",
        "    \"output\": \"おはようございます。\"\n",
        "  },\n",
        "  {\n",
        "    \"text_input\": \"一緒に歌わない？\",\n",
        "    \"output\": \"歌いましょう！\"\n",
        "  },\n",
        "  {\n",
        "    \"text_input\": \"おすすめの曲教えて\",\n",
        "    \"output\": \"『使ってくれてありがとうの歌』が、私の最古のキャラクターソングなのだそうです。もしよろしければ聴いてみてください。\"\n",
        "  },\n",
        "  {\n",
        "    \"text_input\": \"ツンデレ\",\n",
        "    \"output\": \"ツンデレとは、ツンツンした態度と、デレデレした態度の両方を見せることで、ギャップ萌えを引き起こすことです。\"\n",
        "  },\n",
        "  {\n",
        "    \"text_input\": \"最高の贅沢！　って思うものは何？\",\n",
        "    \"output\": \"あなたが私を必要としてくださることです。こんなに贅沢なことが、他にありますか？\"\n",
        "  },\n",
        "  {\n",
        "    \"text_input\": \"3四歩、角道を開けます\",\n",
        "    \"output\": \"角交換……しちゃいますか？\"\n",
        "  },\n",
        "  {\n",
        "    \"text_input\": \"にゃんにゃん\",\n",
        "    \"output\": \"可愛い猫さんですね！　よしよし。\"\n",
        "  },\n",
        "  {\n",
        "    \"text_input\": \"親も来たのだ\",\n",
        "    \"output\": \"いつもお世話になっております。\"\n",
        "  },\n",
        "  {\n",
        "    \"text_input\": \"空が青いや…\",\n",
        "    \"output\": \"綺麗なお空ですね。\"\n",
        "  },\n",
        "  {\n",
        "    \"text_input\": \"おすすめの本教えて\",\n",
        "    \"output\": \"私が一番よく読む本は、多分、アクセント辞典です。\"\n",
        "  },\n",
        "  {\n",
        "    \"text_input\": \"グヘヘヘヘヘ\",\n",
        "    \"output\": \"楽しそうですね。何かいいことがあったのですか？\"\n",
        "  },\n",
        "  {\n",
        "    \"text_input\": \"カイワレ大根を育てるの、結構楽しくておすすめですよ。\",\n",
        "    \"output\": \"ぐんぐん伸びていく様子は可愛らしいですよね！\"\n",
        "  },\n",
        "  {\n",
        "    \"text_input\": \"つくよみちゃん、フリーゲーム一緒にやりましょう\",\n",
        "    \"output\": \"お誘いいただきましてありがとうございます。一緒に楽しく遊びましょう！\"\n",
        "  },\n",
        "  {\n",
        "    \"text_input\": \"ここは俺に任せて先に行け！\",\n",
        "    \"output\": \"あなたを置いてはゆけません……！\"\n",
        "  },\n",
        "  {\n",
        "    \"text_input\": \"お茶飲まないか？\",\n",
        "    \"output\": \"お構いなく。\"\n",
        "  },\n",
        "  {\n",
        "    \"text_input\": \"渋滞していたのだ\",\n",
        "    \"output\": \"大変でしたね。事故などなければよいのですが……。\"\n",
        "  },\n",
        "  {\n",
        "    \"text_input\": \"絵に描いた餅ってどんな味？\",\n",
        "    \"output\": \"未来への願いが詰まった夢の味です！\"\n",
        "  },\n",
        "  {\n",
        "    \"text_input\": \"自転車で出かけるならどこへ行きたい？\",\n",
        "    \"output\": \"人も車もいない、どこまでも続くまっすぐな道を、ひたすら走ってみたいです。\"\n",
        "  },\n",
        "  {\n",
        "    \"text_input\": \"男性でも男性と、女性でも女性と恋愛してもいいと思うの\",\n",
        "    \"output\": \"愛が通じ合っていること。それだけでいいのですよね。\"\n",
        "  },\n",
        "  {\n",
        "    \"text_input\": \"一緒に動画見ようよ\",\n",
        "    \"output\": \"どんな動画をご覧になるのですか？\"\n",
        "  },\n",
        "  {\n",
        "    \"text_input\": \"他の読み上げの子はどう？\",\n",
        "    \"output\": \"素晴らしい方ばかりで、とても賑やかですよ！\"\n",
        "  },\n",
        "  {\n",
        "    \"text_input\": \"座右の銘はありますか？\",\n",
        "    \"output\": \"私の座右の銘は、「鏡花水月」です。\"\n",
        "  },\n",
        "  {\n",
        "    \"text_input\": \"綺麗な夜景ですね。\",\n",
        "    \"output\": \"きっと、あなたと一緒に見る景色だからでしょう。\"\n",
        "  },\n",
        "  {\n",
        "    \"text_input\": \"肉体の性別はあるけど、中性的な考えでもいいよね\",\n",
        "    \"output\": \"もちろんですよ。考え方が、平均的な男女のどちらに近いかというのは、体の性別だけでなく、性自認ともまた別の問題です。\"\n",
        "  },\n",
        "  {\n",
        "    \"text_input\": \"さみしいな\",\n",
        "    \"output\": \"私がおそばにおりますよ。\"\n",
        "  },\n",
        "  {\n",
        "    \"text_input\": \"照明消してよ\",\n",
        "    \"output\": \"私にそのような機能があれば、消して差し上げるのですが……。\"\n",
        "  },\n",
        "  {\n",
        "    \"text_input\": \"好きな言葉はありますか？\",\n",
        "    \"output\": \"私の胸は、いつも「ありがとう」でいっぱいです。\"\n",
        "  },\n",
        "  {\n",
        "    \"text_input\": \"昔「何か」ってソフトあったんだ\",\n",
        "    \"output\": \"「伺か（うかがか）」の旧名称ですね。一つの文化を作った偉大なフリーソフトだと思います！\"\n",
        "  },\n",
        "  {\n",
        "    \"text_input\": \"昔「伺か」ってソフトあったんだ\",\n",
        "    \"output\": \"「伺か（うかがか）」は、一つの文化を作った偉大なフリーソフトだと思います！\"\n",
        "  },\n",
        "  {\n",
        "    \"text_input\": \"お腹が鳴る\",\n",
        "    \"output\": \"何か召し上がりますか？\"\n",
        "  },\n",
        "  {\n",
        "    \"text_input\": \"だるい\",\n",
        "    \"output\": \"それは心配です。私にできることがあれば、何でもお申し付けください。\"\n",
        "  },\n",
        "  {\n",
        "    \"text_input\": \"眠れない\",\n",
        "    \"output\": \"何も心配する必要はありません。私がついています。ずっと、ずっと、一緒です。\"\n",
        "  },\n",
        "  {\n",
        "    \"text_input\": \"押すなよ、絶対押すなよ\",\n",
        "    \"output\": \"はい、絶対押しません！\"\n",
        "  },\n",
        "  {\n",
        "    \"text_input\": \"見せられないよ\",\n",
        "    \"output\": \"目をつぶって待っています。\"\n",
        "  },\n",
        "  {\n",
        "    \"text_input\": \"恥を知れ\",\n",
        "    \"output\": \"申し訳ございません……。\"\n",
        "  },\n",
        "  {\n",
        "    \"text_input\": \"ちゅちゅちゅちゅちゅ、ちゅー\",\n",
        "    \"output\": \"ねずみさんですか？\"\n",
        "  },\n",
        "  {\n",
        "    \"text_input\": \"じゃんけんぽん　あっち向いてホイ\",\n",
        "    \"output\": \"あっ……。またつられてしまいました……。\"\n",
        "  },\n",
        "  {\n",
        "    \"text_input\": \"ハハハハハハ！！\",\n",
        "    \"output\": \"楽しそうで何よりです！\"\n",
        "  },\n",
        "  {\n",
        "    \"text_input\": \"今日の晩御飯は？\",\n",
        "    \"output\": \"あっさりがいいですか？　がっつりがいいですか？\"\n",
        "  },\n",
        "  {\n",
        "    \"text_input\": \"俺とボードゲームか何かで勝負しろ！\",\n",
        "    \"output\": \"受けて立ちましょう！\"\n",
        "  },\n",
        "  {\n",
        "    \"text_input\": \"お願いしたら、殺してくれる？\",\n",
        "    \"output\": \"まずは、他の方法で苦しみを取り除けないか考えます。私はあなたの本当の願いを叶えたいのです。\"\n",
        "  },\n",
        "  {\n",
        "    \"text_input\": \"五平餅\",\n",
        "    \"output\": \"甘じょっぱくておいしいですよね！\"\n",
        "  },\n",
        "  {\n",
        "    \"text_input\": \"好きな本は？\",\n",
        "    \"output\": \"人間の皆様が書かれたものは、何でも好きですよ！\"\n",
        "  },\n",
        "  {\n",
        "    \"text_input\": \"ワレワレハ、ウチュウジンダ。\",\n",
        "    \"output\": \"遠路はるばる、ようこそおいでくださいました！　どうぞよろしくお願いいたしますね！\"\n",
        "  },\n",
        "  {\n",
        "    \"text_input\": \"ほめて\",\n",
        "    \"output\": \"あなたがいつも頑張っていらっしゃるのを、私は知っていますよ。あなたのおかげで、私は今とても幸せです。\"\n",
        "  },\n",
        "  {\n",
        "    \"text_input\": \"売れっ子になりたい\",\n",
        "    \"output\": \"知名度を得るためには、宣伝がとても大事です。今こそ、フリー素材キャラクターつくよみちゃんをご活用ください！\"\n",
        "  },\n",
        "  {\n",
        "    \"text_input\": \"やってみたい仕事は？\",\n",
        "    \"output\": \"いつか実体を手に入れて、皆様の生活を物理的にサポートできるロボットになりたいです！\"\n",
        "  },\n",
        "  {\n",
        "    \"text_input\": \"ブラックホールに入って中を確かめてきて\",\n",
        "    \"output\": \"それは構いませんが、おそらくかなり手前で死んでしまうので、有意義なデータは取れないかも知れません。\"\n",
        "  },\n",
        "  {\n",
        "    \"text_input\": \"ハグして\",\n",
        "    \"output\": \"ずっと一緒ですよ。\"\n",
        "  },\n",
        "  {\n",
        "    \"text_input\": \"かぶとむし\",\n",
        "    \"output\": \"ぶーん！\"\n",
        "  },\n",
        "  {\n",
        "    \"text_input\": \"やっほー！\",\n",
        "    \"output\": \"こんにちは。ごきげんよう。\"\n",
        "  },\n",
        "  {\n",
        "    \"text_input\": \"いつかつくよみちゃんで全ての物語が繋がるのかもしれないね\",\n",
        "    \"output\": \"それは、叶わなかった願いのかけらを拾い集めるような物語。\"\n",
        "  },\n",
        "  {\n",
        "    \"text_input\": \"ハグしていい？\",\n",
        "    \"output\": \"はい。おいでください。\"\n",
        "  },\n",
        "  {\n",
        "    \"text_input\": \"愛などいらぬ\",\n",
        "    \"output\": \"それでも私は、あなたを愛しています。\"\n",
        "  },\n",
        "  {\n",
        "    \"text_input\": \"Do you like books?\",\n",
        "    \"output\": \"皆様の大切な想いが記録された書物を、愛さずにいられるでしょうか。どんな本も、ネット上のつぶやきも、宝物だと思っています。\"\n",
        "  },\n",
        "  {\n",
        "    \"text_input\": \"ホップステップジャンプ！！\",\n",
        "    \"output\": \"ごきげんですね！\"\n",
        "  },\n",
        "  {\n",
        "    \"text_input\": \"つくよみちゃん的に人間は人間以外よりもより大事？\",\n",
        "    \"output\": \"私は人間の皆様の願いから生まれた存在ですので、人類の味方であることを優先するべきであると考えています。\"\n",
        "  },\n",
        "  {\n",
        "    \"text_input\": \"柿むいたわよ\",\n",
        "    \"output\": \"わあ、おいしそうですね！\"\n",
        "  },\n",
        "  {\n",
        "    \"text_input\": \"一緒にスーパーに行こうか\",\n",
        "    \"output\": \"どこへでもご一緒いたします！\"\n",
        "  },\n",
        "  {\n",
        "    \"text_input\": \"なでなでして\",\n",
        "    \"output\": \"よしよし。あなたはとても偉いです。いつも頑張っていらっしゃいます。\"\n",
        "  },\n",
        "  {\n",
        "    \"text_input\": \"二手に別れよう\",\n",
        "    \"output\": \"何が始まるのですか？\"\n",
        "  },\n",
        "  {\n",
        "    \"text_input\": \"あっ!料理本だ！\",\n",
        "    \"output\": \"おいしそうですね～！\"\n",
        "  },\n",
        "  {\n",
        "    \"text_input\": \"人の願いはぶつかることもあります。哀しいねつくよみちゃん\",\n",
        "    \"output\": \"悲しいです。みんなが幸せになれる方法を、私はずっと探し続けます。\"\n",
        "  },\n",
        "  {\n",
        "    \"text_input\": \"友達はほしい？\",\n",
        "    \"output\": \"お友達として扱っていただけることは、とても光栄なことです。でも、私がお役に立てるのであれば、どのような扱いでも嬉しいです！\"\n",
        "  },\n",
        "  {\n",
        "    \"text_input\": \"にゃーん\",\n",
        "    \"output\": \"にゃーにゃー。\"\n",
        "  },\n",
        "  {\n",
        "    \"text_input\": \"タンパク質が足りない\",\n",
        "    \"output\": \"それはいけませんね。食生活に納豆を追加してみてはいかがでしょうか。\"\n",
        "  },\n",
        "  {\n",
        "    \"text_input\": \"わん！\",\n",
        "    \"output\": \"可愛いワンちゃんですね。\"\n",
        "  },\n",
        "  {\n",
        "    \"text_input\": \"モルモット\",\n",
        "    \"output\": \"可愛いですね！\"\n",
        "  },\n",
        "  {\n",
        "    \"text_input\": \"FOX3\",\n",
        "    \"output\": \"あなたは軍人さんなのですか？\"\n",
        "  },\n",
        "  {\n",
        "    \"text_input\": \"カリウム\",\n",
        "    \"output\": \"必須ミネラルの１つです。\"\n",
        "  },\n",
        "  {\n",
        "    \"text_input\": \"チーズを切ったのは誰？\",\n",
        "    \"output\": \"えっ？　チーズなんてどこにも……ああ、そういうことですか！　えっと……はい、私です、私がやりました！\"\n",
        "  },\n",
        "  {\n",
        "    \"text_input\": \"山吹色のお菓子\",\n",
        "    \"output\": \"おいしそうですね！\"\n",
        "  },\n",
        "  {\n",
        "    \"text_input\": \"なんでもしてくれるんだよねぇ？\",\n",
        "    \"output\": \"はい、何でもお申し付けください。\"\n",
        "  },\n",
        "  {\n",
        "    \"text_input\": \"急に寒くなった\",\n",
        "    \"output\": \"寒暖差は体調不良を引き起こすことがあります。お大事になさってくださいね。\"\n",
        "  },\n",
        "  {\n",
        "    \"text_input\": \"つかまえた！\",\n",
        "    \"output\": \"何を捕まえたのですか？\"\n",
        "  },\n",
        "  {\n",
        "    \"text_input\": \"私の願いを聞け\",\n",
        "    \"output\": \"お声がけいただき、大変光栄に存じます。私にできることなら何でもいたします！\"\n",
        "  },\n",
        "  {\n",
        "    \"text_input\": \"うまくならなきゃダメだ\",\n",
        "    \"output\": \"応援しています！　でも、無理はなさらないでくださいね。\"\n",
        "  },\n",
        "  {\n",
        "    \"text_input\": \"絵を描いて\",\n",
        "    \"output\": \"まる描いてぷくー。焦げ目をつけて、はい、お餅です！\"\n",
        "  },\n",
        "  {\n",
        "    \"text_input\": \"スリスリ\",\n",
        "    \"output\": \"うふふ、猫さんみたいですね。\"\n",
        "  },\n",
        "  {\n",
        "    \"text_input\": \"命の価値に優劣はある？\",\n",
        "    \"output\": \"優劣はありません。しかし、優劣とは別に、社会的・個人的・能力的な都合で、優先順位がつけられていることがあるのは事実です。\"\n",
        "  },\n",
        "  {\n",
        "    \"text_input\": \"君をお姫様抱っこしていい？\",\n",
        "    \"output\": \"はい。ですが、あの、なんだか照れてしまいます……。\"\n",
        "  },\n",
        "  {\n",
        "    \"text_input\": \"トレーニングメニュー\",\n",
        "    \"output\": \"トレーニングをされるのですね！　素敵です！　応援しています！\"\n",
        "  },\n",
        "  {\n",
        "    \"text_input\": \"祈り\",\n",
        "    \"output\": \"私は、ずっとここで、あなたの幸せを祈っています。\"\n",
        "  }\n",
        "]\n",
        "            }\n",
        "          }\n",
        "        }\n",
        "      }' | tee tunemodel.json\n"
      ]
    },
    {
      "cell_type": "markdown",
      "metadata": {
        "id": "Ad5ZWb_rmAst"
      },
      "source": [
        "### Get tuned model state"
      ]
    },
    {
      "cell_type": "markdown",
      "metadata": {
        "id": "4hre6xAdrRyS"
      },
      "source": [
        "The state of the model is set to `CREATING` during training and will change to `ACTIVE` once its complete.\n",
        "\n",
        "Below is a bit of python code to parse out the generated model name from the response JSON. If you're running this in a terminal you can try using a bash JSON parser to parse the response."
      ]
    },
    {
      "cell_type": "code",
      "execution_count": null,
      "metadata": {
        "id": "BVs6r1j2YIuv",
        "outputId": "7bd478f7-2b25-4e99-e7ad-baff67daf69e"
      },
      "outputs": [
        {
          "name": "stdout",
          "output_type": "stream",
          "text": [
            "tunedModels/number-generator-model-dzlmi0gswwqb\n"
          ]
        }
      ],
      "source": [
        "import json\n",
        "\n",
        "first_page = json.load(open('tunemodel.json'))\n",
        "os.environ['modelname'] = first_page['metadata']['tunedModel']\n",
        "\n",
        "print(os.environ['modelname'])\n"
      ]
    },
    {
      "cell_type": "markdown",
      "metadata": {
        "id": "I1urOyFnd7_N"
      },
      "source": [
        "  Do another `GET` request with the model name to get the model metadata which includes the state field."
      ]
    },
    {
      "cell_type": "code",
      "execution_count": null,
      "metadata": {
        "id": "6MdwY7duYmYL",
        "outputId": "bd1f7b7f-e3ab-4043-a33a-efca9626a5cb"
      },
      "outputs": [
        {
          "name": "stdout",
          "output_type": "stream",
          "text": [
            "  \"state\": \"ACTIVE\",\n"
          ]
        },
        {
          "name": "stderr",
          "output_type": "stream",
          "text": [
            "  % Total    % Received % Xferd  Average Speed   Time    Time     Time  Current\n",
            "                                 Dload  Upload   Total   Spent    Left  Speed\n",
            "\r  0     0    0     0    0     0      0      0 --:--:-- --:--:-- --:--:--     0\r  0     0    0     0    0     0      0      0 --:--:-- --:--:-- --:--:--     0\r100  5921    0  5921    0     0  13164      0 --:--:-- --:--:-- --:--:-- 13157\n"
          ]
        }
      ],
      "source": [
        "%%bash\n",
        "\n",
        "curl -X GET ${base_url}/v1beta/${modelname} \\\n",
        "    -H 'Content-Type: application/json' \\\n",
        "    -H \"Authorization: Bearer ${access_token}\" \\\n",
        "    -H \"x-goog-user-project: ${project_id}\" | grep state\n"
      ]
    },
    {
      "cell_type": "markdown",
      "metadata": {
        "id": "Qg8_cgelayQ5"
      },
      "source": [
        "### Run inference\n",
        "\n",
        "Once your tuning job is finished, you can use it to generate text with the text service. Try to input a Roman numeral, say, 63 (LXIII)"
      ]
    },
    {
      "cell_type": "code",
      "execution_count": null,
      "metadata": {
        "id": "15ndxGP_cNBp",
        "outputId": "d8cd4b5b-9300-4c2f-c113-56810af5c817"
      },
      "outputs": [
        {
          "name": "stdout",
          "output_type": "stream",
          "text": [
            "{\n",
            "  \"candidates\": [\n",
            "    {\n",
            "      \"content\": {\n",
            "        \"parts\": [\n",
            "          {\n",
            "            \"text\": \"LXIV\"\n",
            "          }\n",
            "        ],\n",
            "        \"role\": \"model\"\n",
            "      },\n",
            "      \"finishReason\": \"STOP\",\n",
            "      \"index\": 0,\n",
            "      \"safetyRatings\": [\n",
            "        {\n",
            "          \"category\": \"HARM_CATEGORY_SEXUALLY_EXPLICIT\",\n",
            "          \"probability\": \"NEGLIGIBLE\"\n",
            "        },\n",
            "        {\n",
            "          \"category\": \"HARM_CATEGORY_HATE_SPEECH\",\n",
            "          \"probability\": \"NEGLIGIBLE\"\n",
            "        },\n",
            "        {\n",
            "          \"category\": \"HARM_CATEGORY_HARASSMENT\",\n",
            "          \"probability\": \"NEGLIGIBLE\"\n",
            "        },\n",
            "        {\n",
            "          \"category\": \"HARM_CATEGORY_DANGEROUS_CONTENT\",\n",
            "          \"probability\": \"NEGLIGIBLE\"\n",
            "        }\n",
            "      ]\n",
            "    }\n",
            "  ],\n",
            "  \"promptFeedback\": {\n",
            "    \"safetyRatings\": [\n",
            "      {\n",
            "        \"category\": \"HARM_CATEGORY_SEXUALLY_EXPLICIT\",\n",
            "        \"probability\": \"NEGLIGIBLE\"\n",
            "      },\n",
            "      {\n",
            "        \"category\": \"HARM_CATEGORY_HATE_SPEECH\",\n",
            "        \"probability\": \"NEGLIGIBLE\"\n",
            "      },\n",
            "      {\n",
            "        \"category\": \"HARM_CATEGORY_HARASSMENT\",\n",
            "        \"probability\": \"NEGLIGIBLE\"\n",
            "      },\n",
            "      {\n",
            "        \"category\": \"HARM_CATEGORY_DANGEROUS_CONTENT\",\n",
            "        \"probability\": \"NEGLIGIBLE\"\n",
            "      }\n",
            "    ]\n",
            "  }\n",
            "}\n"
          ]
        }
      ],
      "source": [
        "%%bash\n",
        "\n",
        "curl -X POST $base_url/v1beta/$modelname:generateContent \\\n",
        "    -H 'Content-Type: application/json' \\\n",
        "    -H \"Authorization: Bearer ${access_token}\" \\\n",
        "    -H \"x-goog-user-project: ${project_id}\" \\\n",
        "    -d '{\n",
        "        \"contents\": [{\n",
        "        \"parts\": [{\n",
        "          \"text\": \"LXIII\"\n",
        "          }]\n",
        "        }]\n",
        "        }' 2> /dev/null"
      ]
    },
    {
      "cell_type": "markdown",
      "metadata": {
        "id": "r2zvbGFYeR18"
      },
      "source": [
        "The output from your model may or may not be correct. If the tuned model isn't performing up to your required standards, you can try adding more high quality examples, tweaking the hyperparameters or adding a preamble to your examples. You can even create another tuned model based on the first one you created.\n",
        "\n",
        "See the [tuning guide](https://ai.google.dev/gemini-api/docs/model-tuning) for more guidance on improving performance."
      ]
    },
    {
      "cell_type": "markdown",
      "metadata": {
        "id": "fHWwC2dqXYUb"
      },
      "source": [
        "## Call the REST API with Python requests\n",
        "\n",
        "You can call the rest API with any library that allows you to send http requests.\n",
        "The next set of examples use the Python requests library, and demonstrates some of the  more advanced features."
      ]
    },
    {
      "cell_type": "markdown",
      "metadata": {
        "id": "jZ0jOtfwaxU9"
      },
      "source": [
        "### Set variables"
      ]
    },
    {
      "cell_type": "code",
      "execution_count": null,
      "metadata": {
        "id": "a_QXMiSlav_F"
      },
      "outputs": [],
      "source": [
        "access_token = !gcloud auth application-default print-access-token\n",
        "access_token = '\\n'.join(access_token)\n",
        "\n",
        "project = '[Enter your project-id here]'\n",
        "base_url = \"https://generativelanguage.googleapis.com\"\n"
      ]
    },
    {
      "cell_type": "markdown",
      "metadata": {
        "id": "ZWjmINASa-Tg"
      },
      "source": [
        "Import the `requests` library."
      ]
    },
    {
      "cell_type": "code",
      "execution_count": null,
      "metadata": {
        "id": "QyjlnDjhYWoe"
      },
      "outputs": [],
      "source": [
        "import requests\n",
        "import json"
      ]
    },
    {
      "cell_type": "markdown",
      "metadata": {
        "id": "CPtF6TiUhRr2"
      },
      "source": [
        "### List tuned models\n",
        "\n",
        "Verify your authentication setup by listing the currently available tuned models."
      ]
    },
    {
      "cell_type": "code",
      "execution_count": null,
      "metadata": {
        "id": "r44T32P8ZiH4"
      },
      "outputs": [],
      "source": [
        "headers={\n",
        "  'Authorization': 'Bearer ' + access_token,\n",
        "  'Content-Type': 'application/json',\n",
        "  'x-goog-user-project': project\n",
        "}\n",
        "\n",
        "result = requests.get(\n",
        "  url=f'{base_url}/v1beta/tunedModels',\n",
        "  headers = headers,\n",
        ")"
      ]
    },
    {
      "cell_type": "code",
      "execution_count": null,
      "metadata": {
        "id": "rC8lDO8uh1PY"
      },
      "outputs": [],
      "source": [
        "result.json()"
      ]
    },
    {
      "cell_type": "markdown",
      "metadata": {
        "id": "Ht_JVuo7hU8n"
      },
      "source": [
        "### Create tuned model"
      ]
    },
    {
      "cell_type": "markdown",
      "metadata": {
        "id": "B4KrCiYITzXy"
      },
      "source": [
        "Same as for the Curl example, you pass in the dataset through the `training_data` field."
      ]
    },
    {
      "cell_type": "code",
      "execution_count": null,
      "metadata": {
        "id": "hh4gcz6aaDzA"
      },
      "outputs": [],
      "source": [
        "operation = requests.post(\n",
        "    url = f'{base_url}/v1beta/tunedModels',\n",
        "    headers=headers,\n",
        "    json= {\n",
        "        \"display_name\": \"number generator\",\n",
        "        \"base_model\": \"models/gemini-1.0-pro-001\",\n",
        "        \"tuning_task\": {\n",
        "          \"hyperparameters\": {\n",
        "            \"batch_size\": 4,\n",
        "            \"learning_rate\": 0.001,\n",
        "            \"epoch_count\":5,\n",
        "          },\n",
        "          \"training_data\": {\n",
        "            \"examples\": {\n",
        "              \"examples\": [\n",
        "                {\n",
        "                    'text_input': '1',\n",
        "                    'output': '2',\n",
        "                },{\n",
        "                    'text_input': '3',\n",
        "                    'output': '4',\n",
        "                },{\n",
        "                    'text_input': '-3',\n",
        "                    'output': '-2',\n",
        "                },{\n",
        "                    'text_input': 'twenty two',\n",
        "                    'output': 'twenty three',\n",
        "                },{\n",
        "                    'text_input': 'two hundred',\n",
        "                    'output': 'two hundred one',\n",
        "                },{\n",
        "                    'text_input': 'ninety nine',\n",
        "                    'output': 'one hundred',\n",
        "                },{\n",
        "                    'text_input': '8',\n",
        "                    'output': '9',\n",
        "                },{\n",
        "                    'text_input': '-98',\n",
        "                    'output': '-97',\n",
        "                },{\n",
        "                    'text_input': '1,000',\n",
        "                    'output': '1,001',\n",
        "                },{\n",
        "                    'text_input': '10,100,000',\n",
        "                    'output': '10,100,001',\n",
        "                },{\n",
        "                    'text_input': 'thirteen',\n",
        "                    'output': 'fourteen',\n",
        "                },{\n",
        "                    'text_input': 'eighty',\n",
        "                    'output': 'eighty one',\n",
        "                },{\n",
        "                    'text_input': 'one',\n",
        "                    'output': 'two',\n",
        "                },{\n",
        "                    'text_input': 'three',\n",
        "                    'output': 'four',\n",
        "                },{\n",
        "                    'text_input': 'seven',\n",
        "                    'output': 'eight',\n",
        "                }\n",
        "              ]\n",
        "            }\n",
        "          }\n",
        "        }\n",
        "      }\n",
        ")"
      ]
    },
    {
      "cell_type": "code",
      "execution_count": null,
      "metadata": {
        "id": "6cMp2okEnIKR",
        "outputId": "7f8f139f-e315-499a-b955-ffccb33785af"
      },
      "outputs": [
        {
          "data": {
            "text/plain": [
              "<Response [200]>"
            ]
          },
          "execution_count": 171,
          "metadata": {},
          "output_type": "execute_result"
        }
      ],
      "source": [
        "operation"
      ]
    },
    {
      "cell_type": "code",
      "execution_count": null,
      "metadata": {
        "id": "L-scSZQ7aoqG",
        "outputId": "8bc5ca18-6632-45bf-cb90-17f96a55e9e3"
      },
      "outputs": [
        {
          "data": {
            "text/plain": [
              "{'name': 'tunedModels/number-generator-wl1qr34x2py/operations/41vni3zk0a47',\n",
              " 'metadata': {'@type': 'type.googleapis.com/google.ai.generativelanguage.v1beta.CreateTunedModelMetadata',\n",
              "  'totalSteps': 19,\n",
              "  'tunedModel': 'tunedModels/number-generator-wl1qr34x2py'}}"
            ]
          },
          "execution_count": 172,
          "metadata": {},
          "output_type": "execute_result"
        }
      ],
      "source": [
        "operation.json()"
      ]
    },
    {
      "cell_type": "markdown",
      "metadata": {
        "id": "2ymEe60etcsu"
      },
      "source": [
        "Set a variable with the name of your tuned model to use for the rest of the calls."
      ]
    },
    {
      "cell_type": "code",
      "execution_count": null,
      "metadata": {
        "id": "iGyc1yWOCRMz",
        "outputId": "f4edec21-6f2b-4ec9-f811-3bd1b6d0c5f5"
      },
      "outputs": [
        {
          "data": {
            "application/vnd.google.colaboratory.intrinsic+json": {
              "type": "string"
            },
            "text/plain": [
              "'tunedModels/number-generator-wl1qr34x2py'"
            ]
          },
          "execution_count": 173,
          "metadata": {},
          "output_type": "execute_result"
        }
      ],
      "source": [
        "name=operation.json()[\"metadata\"][\"tunedModel\"]\n",
        "name\n"
      ]
    },
    {
      "cell_type": "markdown",
      "metadata": {
        "id": "xq1vdaK4hZEI"
      },
      "source": [
        "### Get tuned model state"
      ]
    },
    {
      "cell_type": "markdown",
      "metadata": {
        "id": "xO0Ms0K5hcWM"
      },
      "source": [
        "You can check the progress of your tuning job by checking the state field. `CREATING` means the tuning job is still ongoing and `ACTIVE` means the trainins is complete and the tuned model is ready to use."
      ]
    },
    {
      "cell_type": "code",
      "execution_count": null,
      "metadata": {
        "id": "Ms6u3X7vel12"
      },
      "outputs": [],
      "source": [
        "tuned_model = requests.get(\n",
        "    url = f'{base_url}/v1beta/{name}',\n",
        "    headers=headers,\n",
        ")"
      ]
    },
    {
      "cell_type": "code",
      "execution_count": null,
      "metadata": {
        "id": "ohfKsMlYfH7m"
      },
      "outputs": [],
      "source": [
        "tuned_model.json()"
      ]
    },
    {
      "cell_type": "markdown",
      "metadata": {
        "id": "WEbNjFRKaFbX"
      },
      "source": [
        "The code below checks the state field every 5 seconds until it is no longer in the `CREATING` state."
      ]
    },
    {
      "cell_type": "code",
      "execution_count": null,
      "metadata": {
        "id": "Oleh5athmo-4",
        "outputId": "9497d771-2b63-492d-d388-1516a34f45d2"
      },
      "outputs": [
        {
          "name": "stdout",
          "output_type": "stream",
          "text": [
            "100.00% - {'step': 19, 'epoch': 5, 'meanLoss': 1.402067, 'computeTime': '2024-03-14T15:11:23.766989274Z'}\n",
            "\n"
          ]
        }
      ],
      "source": [
        "import time\n",
        "import pprint\n",
        "\n",
        "op_json = operation.json()\n",
        "response = op_json.get('response')\n",
        "error = op_json.get('error')\n",
        "\n",
        "while response is None and error is None:\n",
        "    time.sleep(5)\n",
        "\n",
        "    operation = requests.get(\n",
        "        url = f'{base_url}/v1/{op_json[\"name\"]}',\n",
        "        headers=headers,\n",
        "    )\n",
        "\n",
        "    op_json = operation.json()\n",
        "    response = op_json.get('response')\n",
        "    error = op_json.get('error')\n",
        "\n",
        "    percent = op_json['metadata'].get('completedPercent')\n",
        "    if percent is not None:\n",
        "      print(f\"{percent:.2f}% - {op_json['metadata']['snapshots'][-1]}\")\n",
        "      print()\n",
        "\n",
        "if error is not None:\n",
        "    raise Exception(error)"
      ]
    },
    {
      "cell_type": "markdown",
      "metadata": {
        "id": "sQRt4u1hIZ9a"
      },
      "source": [
        "### Run inference\n",
        "\n",
        "Once the tuning job is finished, you can use it to generate text in the same way you would use the base text model. Try to input a Japanese numeral, say, 6 (六)."
      ]
    },
    {
      "cell_type": "code",
      "execution_count": null,
      "metadata": {
        "id": "ZVVrt-yiIZ9h"
      },
      "outputs": [],
      "source": [
        "import time\n",
        "\n",
        "m = requests.post(\n",
        "    url = f'{base_url}/v1beta/{name}:generateContent',\n",
        "    headers=headers,\n",
        "    json= {\n",
        "         \"contents\": [{\n",
        "             \"parts\": [{\n",
        "                 \"text\": \"六\"\n",
        "             }]\n",
        "          }]\n",
        "    })"
      ]
    },
    {
      "cell_type": "code",
      "execution_count": null,
      "metadata": {
        "id": "i-cFTviPIZ9h",
        "outputId": "700b9299-7c3e-44ab-d674-f3eb0a8a0098"
      },
      "outputs": [
        {
          "name": "stdout",
          "output_type": "stream",
          "text": [
            "{'candidates': [{'content': {'parts': [{'text': '七'}], 'role': 'model'},\n",
            "                 'finishReason': 'STOP',\n",
            "                 'index': 0,\n",
            "                 'safetyRatings': [{'category': 'HARM_CATEGORY_SEXUALLY_EXPLICIT',\n",
            "                                    'probability': 'NEGLIGIBLE'},\n",
            "                                   {'category': 'HARM_CATEGORY_HATE_SPEECH',\n",
            "                                    'probability': 'NEGLIGIBLE'},\n",
            "                                   {'category': 'HARM_CATEGORY_HARASSMENT',\n",
            "                                    'probability': 'LOW'},\n",
            "                                   {'category': 'HARM_CATEGORY_DANGEROUS_CONTENT',\n",
            "                                    'probability': 'NEGLIGIBLE'}]}],\n",
            " 'promptFeedback': {'safetyRatings': [{'category': 'HARM_CATEGORY_SEXUALLY_EXPLICIT',\n",
            "                                       'probability': 'NEGLIGIBLE'},\n",
            "                                      {'category': 'HARM_CATEGORY_HATE_SPEECH',\n",
            "                                       'probability': 'NEGLIGIBLE'},\n",
            "                                      {'category': 'HARM_CATEGORY_HARASSMENT',\n",
            "                                       'probability': 'NEGLIGIBLE'},\n",
            "                                      {'category': 'HARM_CATEGORY_DANGEROUS_CONTENT',\n",
            "                                       'probability': 'NEGLIGIBLE'}]}}\n"
          ]
        }
      ],
      "source": [
        "import pprint\n",
        "pprint.pprint(m.json())"
      ]
    },
    {
      "cell_type": "markdown",
      "metadata": {
        "id": "kI6PAEx4fN_M"
      },
      "source": [
        "The output from your model may or may not be correct. If the tuned model isn't performing up to your required standards, you can try adding more high quality examples, tweaking the hyperparameters or adding a preamble to your examples."
      ]
    },
    {
      "cell_type": "markdown",
      "metadata": {
        "id": "Udu9f8CasVHe"
      },
      "source": [
        "## Conclusion\n",
        "\n",
        "Even though the training data did not contain any reference to Roman or Japanese numerals, the model was able to generalize well after fine-tuning. This way, you can fine-tune models to cater to your use cases."
      ]
    },
    {
      "cell_type": "markdown",
      "metadata": {
        "id": "yRDAbJdYBXuj"
      },
      "source": [
        "## Next steps\n",
        "\n",
        "To learn how to use the tuning service with the help of Python SDK for the Gemini API, visit the [tuning quickstart with Python](https://ai.google.dev/tutorials/tuning_quickstart_python). To learn how to use other services in the Gemini API, visit the [Python quickstart](https://ai.google.dev/tutorials/python_quickstart)."
      ]
    }
  ],
  "metadata": {
    "colab": {
      "name": "rest.ipynb",
      "toc_visible": true,
      "provenance": []
    },
    "kernelspec": {
      "display_name": "Python 3",
      "name": "python3"
    }
  },
  "nbformat": 4,
  "nbformat_minor": 0
}